{
 "cells": [
  {
   "cell_type": "markdown",
   "metadata": {},
   "source": [
    "Write a script to compute and print the *n*th row of Pascal's triangle. Do not spend time trying to print the entire triangle in the format above (it is for illustrative purposes only).  The input will be the row number as an integer starting with row 1 as the first row.\n",
    "\n",
    "\n",
    "Example:\n",
    "```\n",
    "Enter a row number: 5\n",
    "\n",
    "1 4 6 4 1\n",
    "```\n"
   ]
  },
  {
   "cell_type": "code",
   "execution_count": 1,
   "metadata": {},
   "outputs": [
    {
     "name": "stdout",
     "output_type": "stream",
     "text": [
      "1 2 1\n"
     ]
    }
   ],
   "source": [
    "input_num = int(input(\"Enter a row number: \"))\n",
    "\n",
    "triangle = [[1]]\n",
    "\n",
    "while len(triangle) < input_num:\n",
    "    last_one= triangle[-1]\n",
    "    add_up = [1]\n",
    "\n",
    "    for i in range(1,len(last_one)):\n",
    "        add_up.append(last_one[i-1]+last_one[i])\n",
    "    add_up=add_up+[1]\n",
    "    triangle.append(add_up)\n",
    "str_triangle_result=\" \".join([str(a) for a in triangle[-1]])\n",
    "print(str_triangle_result)"
   ]
  },
  {
   "cell_type": "markdown",
   "metadata": {},
   "source": [
    "A Game of Chess \n",
    "You place a pawn at the top left corner of an n-by-n chess board, labeled (0,0).  For each move, you have a choice: move the pawn down a single space, or move the pawn down one space and right one space.  That is, if the pawn is at position (i,j), you can move the pawn to (i+1,j) or (i+1, j+1).\n",
    "\n",
    "Ask the user for the size of a chessboard, n (**integer**).  Find the number of different paths **starting from (0,0)** that the pawn could take to reach each position on the chess board.  For example, there are two different paths the pawn can take to reach (2,1). Look at the diagrams below to convince yourself of this. You can see the four paths that you can take by move 2.\n",
    "```\n",
    "  Start -> Move 1 -> Move 2\n",
    "\n",
    "  (0,0) ->  (1,0) -> (2,1)\n",
    "  \n",
    "  (0,0) ->  (1,0) -> (2,0)\n",
    "  \n",
    "  (0,0) ->  (1,1) -> (2,1)\n",
    "  \n",
    "  (0,0) ->  (1,1) -> (2,2)\n",
    "```\n",
    "\n",
    "Print the board with the number of ways to reach each square labeled as shown below.\n",
    "\n",
    "For example:\n",
    "```\n",
    "Enter a board size: 4\n",
    "\n",
    "1 0 0 0\n",
    "1 1 0 0\n",
    "1 2 1 0\n",
    "1 3 3 1\n",
    "```"
   ]
  },
  {
   "cell_type": "code",
   "execution_count": 2,
   "metadata": {},
   "outputs": [
    {
     "name": "stdout",
     "output_type": "stream",
     "text": [
      "1 0 0 0 0\n",
      "1 1 0 0 0\n",
      "1 2 1 0 0\n",
      "1 3 3 1 0\n",
      "1 4 6 4 1\n"
     ]
    }
   ],
   "source": [
    "# Get the user input for the board size\n",
    "n = int(input(\"Enter a board size: \"))\n",
    "# so each number will be above number + above left number (observed from example)\n",
    "\n",
    "board = [[0] * n for a in range(n)] # n of [0] in a list, and n of lists\n",
    "\n",
    "board[0][0] = 1 #first num is 1 and all stated from (0 ,0), no negative \n",
    "\n",
    "for i in range(n):\n",
    "    for j in range(n):\n",
    "        if i>0 and j==0:\n",
    "            board[i][j] = board[i][j] + board[i-1][j] #above num for the left same col\n",
    "        elif i>0 and j>0:\n",
    "            board[i][j] = board[i-1][j] + board[i-1][j-1] # the rest of the cols are all: above + above left\n",
    "\n",
    "# join the num \n",
    "for b in board: #b= each list, iterate all the list to print out the board\n",
    "    print(\" \".join(map(str, b)))"
   ]
  },
  {
   "cell_type": "markdown",
   "metadata": {},
   "source": [
    "Bisection Search to Find a Square Root"
   ]
  },
  {
   "cell_type": "code",
   "execution_count": null,
   "metadata": {},
   "outputs": [],
   "source": [
    "\n",
    "x = float(input(\"enter a number:\"))\n",
    "\n",
    "epsilon = 0.00001\n",
    "num_guesses = 0\n",
    "low = 0.0\n",
    "\n",
    "if x<0:\n",
    "    print(\"please enter any positive number\")\n",
    "    exit()\n",
    "\n",
    "elif x==0: \n",
    "    print(\"please enter any positive number\")\n",
    "    exit()\n",
    "\n",
    "elif 0<x<1:\n",
    "    high = 1.0\n",
    "    ans = (high + low)/2.0\n",
    "    while high - low >= 2 * epsilon:\n",
    "        print(\"low =\",low,\"high =\", high)\n",
    "        num_guesses += 1\n",
    "        \n",
    "        if ans ** 2 < x:\n",
    "            low = ans\n",
    "        else:\n",
    "            high = ans\n",
    "        ans = (high + low)/2.0\n",
    "    \n",
    "\n",
    "elif x >= 1:\n",
    "    high = x  \n",
    "    ans = (high + low)/2.0\n",
    "    while high - low >= 2 * epsilon:\n",
    "        print(\"low =\",low,\"high =\", high)\n",
    "        num_guesses += 1\n",
    "        \n",
    "        if ans ** 2 < x:\n",
    "            low = ans\n",
    "        else:\n",
    "            high = ans\n",
    "        ans = (high + low)/2.0\n",
    "    \n",
    "else:\n",
    "    print(\"please enter any positive number\")\n",
    "    exit()\n",
    "\n",
    "if x>0:\n",
    "    print('Number of guesses =', num_guesses)\n",
    "    print(ans, 'is close to square root of', x)\n",
    "else:\n",
    "    None"
   ]
  },
  {
   "cell_type": "markdown",
   "metadata": {},
   "source": [
    "A Flexible \"Scoring\" Function \n",
    "\n",
    "The following code defines a list of names and also contains a header for the function `best`.  The `best` function takes two arguments: a generic scoring function, score, and a list of strings, names.  Fill in the function so that it applies a score function to each string in the names list and returns the name with the highest score. If there are ties in the list, your function should return the first item with the maximum score. The `best` function needs to be designed so that it can take any scoring function and return the name with the highest score.\n",
    "\n",
    "For this question, define a function called `len_score` that returns the length of a word.  Call the `best` function with the `len_score` function as a parameter.\n",
    "\n",
    "Example:\n",
    "```\n",
    "names = [\"Ben\", \"April\", \"Zaber\", \"Alexis\", \"McJagger\", \"J.J.\", \"Madonna\"]\n",
    "\n",
    "best(len_score, names) -> 'McJagger'\n",
    "```\n",
    "Using Our Flexible Function (5 points)\n",
    "\n",
    "**NOTE: Do not change your best function from the answer above! The best function should be able to take any scoring function and return the result.** \n",
    "\n",
    "Define a function, `number_of_vowels`, that returns the number of vowels in a string.  Pass it to your `best` function to find the name in `names` with the most vowels.\n",
    "\n",
    "See how easy it is to change the score function for different functionalities!\n",
    "\n",
    "Example: \n",
    "```\n",
    "names = [\"Ben\", \"April\", \"Zaber\", \"Alexis\", \"McJagger\", \"J.J.\", \"Madonna\"]\n",
    "\n",
    "best(number_of_vowels, names) -> 'Alexis'\n",
    "\n",
    "```"
   ]
  },
  {
   "cell_type": "code",
   "execution_count": null,
   "metadata": {},
   "outputs": [],
   "source": [
    "names = [\"Ben\", \"April\", \"Zaber\", \"Alexis\", \"McJagger\", \"J.J.\", \"Madonna\"]\n",
    "def len_score(word):\n",
    "    len_cnt=0\n",
    "    for i in word:\n",
    "        len_cnt += 1\n",
    "    return len_cnt\n",
    "\n",
    "def best(score, names):\n",
    "    # YOUR CODE FOR best HERE\n",
    "    max_score = 0\n",
    "    max_score_name = None \n",
    "    for name in names:\n",
    "        score_now = score(name) #any func can be used in here, like, len_score(name), unknown_func(name)\n",
    "        if score_now > max_score:\n",
    "            max_score = score_now\n",
    "            max_score_name = name\n",
    "    return max_score_name\n",
    "\n",
    "def number_of_vowels(names):\n",
    "    vowel = ['a','e','i','o','u']\n",
    "    cnt = 0\n",
    "    for i in names.lower():\n",
    "        if i in vowel:\n",
    "            cnt += 1\n",
    "    return cnt\n",
    "print(number_of_vowels('Alexis'))"
   ]
  },
  {
   "cell_type": "markdown",
   "metadata": {},
   "source": []
  }
 ],
 "metadata": {
  "kernelspec": {
   "display_name": "semester1",
   "language": "python",
   "name": "python3"
  },
  "language_info": {
   "codemirror_mode": {
    "name": "ipython",
    "version": 3
   },
   "file_extension": ".py",
   "mimetype": "text/x-python",
   "name": "python",
   "nbconvert_exporter": "python",
   "pygments_lexer": "ipython3",
   "version": "3.13.2"
  }
 },
 "nbformat": 4,
 "nbformat_minor": 2
}
